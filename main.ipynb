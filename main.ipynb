{
 "cells": [
  {
   "cell_type": "code",
   "execution_count": 4,
   "metadata": {},
   "outputs": [
    {
     "name": "stdout",
     "output_type": "stream",
     "text": [
      "      ID  Length  Birthweight  Headcirc  Gestation  smoker  mage  mnocig  mheight  mppwt  fage  fedyrs  fnocig  fheight  lowbwt  mage35\n",
      "0   1360      56         4.55        34         44       0    20       0      162     57    23      10      35      179       0       0\n",
      "1   1016      53         4.32        36         40       0    19       0      171     62    19      12       0      183       0       0\n",
      "2    462      58         4.10        39         41       0    35       0      172     58    31      16      25      185       0       1\n",
      "3   1187      53         4.07        38         44       0    20       0      174     68    26      14      25      189       0       0\n",
      "4    553      54         3.94        37         42       0    24       0      175     66    30      12       0      184       0       0\n",
      "5   1636      51         3.93        38         38       0    29       0      165     61    31      16       0      180       0       0\n",
      "6    820      52         3.77        34         40       0    24       0      157     50    31      16       0      173       0       0\n",
      "7   1191      53         3.65        33         42       0    21       0      165     61    21      10      25      185       0       0\n",
      "8   1081      54         3.63        38         38       0    18       0      172     50    20      12       7      172       0       0\n",
      "9    822      50         3.42        35         38       0    20       0      157     48    22      14       0      179       0       0\n",
      "10  1683      53         3.35        33         41       0    27       0      164     62    37      14       0      170       0       0\n",
      "11  1088      51         3.27        36         40       0    24       0      168     53    29      16       0      181       0       0\n",
      "12  1107      52         3.23        36         38       0    31       0      164     57    35      16       0      183       0       0\n",
      "13   755      53         3.20        33         41       0    21       0      155     55    25      14      25      183       0       0\n",
      "14  1058      53         3.15        34         40       0    29       0      167     60    30      16      25      182       0       0\n",
      "15   321      48         3.11        33         37       0    28       0      158     54    39      10       0      171       0       0\n",
      "16   697      48         3.03        35         39       0    27       0      162     62    27      14       0      178       0       0\n",
      "17   808      48         2.92        33         34       0    26       0      167     64    25      12      25      175       0       0\n",
      "18  1600      53         2.90        34         39       0    19       0      165     57    23      14       2      193       0       0\n",
      "19  1313      43         2.65        32         33       0    24       0      149     45    26      16       0      169       1       0\n",
      "20   792      53         3.64        38         40       1    20       2      170     59    24      12      12      185       0       0\n",
      "21  1388      51         3.14        33         41       1    22       7      160     53    24      16      12      176       0       0\n",
      "22   575      50         2.78        30         37       1    19       7      165     60    20      14       0      183       0       0\n",
      "23   569      50         2.51        35         39       1    22       7      159     52    23      14      25      200       1       0\n",
      "24  1363      48         2.37        30         37       1    20       7      163     47    20      10      35      185       1       0\n",
      "25   300      46         2.05        32         35       1    41       7      166     57    37      14      25      173       1       1\n",
      "26   431      48         1.92        30         33       1    20       7      161     50    20      10      35      180       1       0\n",
      "27  1764      58         4.57        39         41       1    32      12      173     70    38      14      25      180       0       0\n",
      "28   532      53         3.59        34         40       1    31      12      163     49    41      12      50      191       0       0\n",
      "29   752      49         3.32        36         40       1    27      12      152     48    37      12      25      170       0       0\n",
      "30  1023      52         3.00        35         38       1    30      12      165     64    38      14      50      180       0       0\n",
      "31    57      51         3.32        38         39       1    23      17      157     48    32      12      25      169       0       0\n",
      "32  1522      50         2.74        33         39       1    21      17      156     53    24      12       7      179       0       0\n",
      "33   223      50         3.87        33         45       1    28      25      163     54    30      16       0      183       0       0\n",
      "34   272      52         3.86        36         39       1    30      25      170     78    40      16      50      178       0       0\n",
      "35    27      53         3.55        37         41       1    37      25      161     66    46      16       0      175       0       1\n",
      "36   365      52         3.53        37         40       1    26      25      170     62    30      10      25      181       0       0\n",
      "37   619      52         3.41        33         39       1    23      25      181     69    23      16       2      181       0       0\n",
      "38  1369      49         3.18        34         38       1    31      25      162     57    32      16      50      194       0       0\n",
      "39  1262      53         3.19        34         41       1    27      35      163     51    31      16      25      185       0       0\n",
      "40   516      47         2.66        33         35       1    20      35      170     57    23      12      50      186       1       0\n",
      "41  1272      53         2.75        32         40       1    37      50      168     61    31      16       0      173       0       1\n"
     ]
    }
   ],
   "source": [
    "import pandas as pd\n",
    "import matplotlib.pyplot as plt\n",
    "import seaborn as sb\n",
    "import numpy as np\n",
    "\n",
    "# prints output of csv file\n",
    "df = pd.read_csv('birthweight_csv.csv')\n",
    "\n",
    "print(df.to_string())"
   ]
  },
  {
   "cell_type": "code",
   "execution_count": 5,
   "metadata": {},
   "outputs": [
    {
     "name": "stdout",
     "output_type": "stream",
     "text": [
      "      ID  Length  Birthweight  Headcirc  Gestation  smoker  mage  mnocig  mheight  mppwt  fage  fedyrs  fnocig  fheight  lowbwt  mage35\n",
      "0   1360      56         4.55        34         44       0    20       0      162     57    23      10      35      179       0       0\n",
      "1   1016      53         4.32        36         40       0    19       0      171     62    19      12       0      183       0       0\n",
      "2    462      58         4.10        39         41       0    35       0      172     58    31      16      25      185       0       1\n",
      "3   1187      53         4.07        38         44       0    20       0      174     68    26      14      25      189       0       0\n",
      "4    553      54         3.94        37         42       0    24       0      175     66    30      12       0      184       0       0\n",
      "5   1636      51         3.93        38         38       0    29       0      165     61    31      16       0      180       0       0\n",
      "6    820      52         3.77        34         40       0    24       0      157     50    31      16       0      173       0       0\n",
      "7   1191      53         3.65        33         42       0    21       0      165     61    21      10      25      185       0       0\n",
      "8   1081      54         3.63        38         38       0    18       0      172     50    20      12       7      172       0       0\n",
      "9    822      50         3.42        35         38       0    20       0      157     48    22      14       0      179       0       0\n",
      "10  1683      53         3.35        33         41       0    27       0      164     62    37      14       0      170       0       0\n",
      "11  1088      51         3.27        36         40       0    24       0      168     53    29      16       0      181       0       0\n",
      "12  1107      52         3.23        36         38       0    31       0      164     57    35      16       0      183       0       0\n",
      "13   755      53         3.20        33         41       0    21       0      155     55    25      14      25      183       0       0\n",
      "14  1058      53         3.15        34         40       0    29       0      167     60    30      16      25      182       0       0\n",
      "15   321      48         3.11        33         37       0    28       0      158     54    39      10       0      171       0       0\n",
      "16   697      48         3.03        35         39       0    27       0      162     62    27      14       0      178       0       0\n",
      "17   808      48         2.92        33         34       0    26       0      167     64    25      12      25      175       0       0\n",
      "18  1600      53         2.90        34         39       0    19       0      165     57    23      14       2      193       0       0\n",
      "19  1313      43         2.65        32         33       0    24       0      149     45    26      16       0      169       1       0\n",
      "20   792      53         3.64        38         40       1    20       2      170     59    24      12      12      185       0       0\n",
      "21  1388      51         3.14        33         41       1    22       7      160     53    24      16      12      176       0       0\n",
      "22   575      50         2.78        30         37       1    19       7      165     60    20      14       0      183       0       0\n",
      "23   569      50         2.51        35         39       1    22       7      159     52    23      14      25      200       1       0\n",
      "24  1363      48         2.37        30         37       1    20       7      163     47    20      10      35      185       1       0\n",
      "25   300      46         2.05        32         35       1    41       7      166     57    37      14      25      173       1       1\n",
      "26   431      48         1.92        30         33       1    20       7      161     50    20      10      35      180       1       0\n",
      "27  1764      58         4.57        39         41       1    32      12      173     70    38      14      25      180       0       0\n",
      "28   532      53         3.59        34         40       1    31      12      163     49    41      12      50      191       0       0\n",
      "29   752      49         3.32        36         40       1    27      12      152     48    37      12      25      170       0       0\n",
      "30  1023      52         3.00        35         38       1    30      12      165     64    38      14      50      180       0       0\n",
      "31    57      51         3.32        38         39       1    23      17      157     48    32      12      25      169       0       0\n",
      "32  1522      50         2.74        33         39       1    21      17      156     53    24      12       7      179       0       0\n",
      "33   223      50         3.87        33         45       1    28      25      163     54    30      16       0      183       0       0\n",
      "34   272      52         3.86        36         39       1    30      25      170     78    40      16      50      178       0       0\n",
      "35    27      53         3.55        37         41       1    37      25      161     66    46      16       0      175       0       1\n",
      "36   365      52         3.53        37         40       1    26      25      170     62    30      10      25      181       0       0\n",
      "37   619      52         3.41        33         39       1    23      25      181     69    23      16       2      181       0       0\n",
      "38  1369      49         3.18        34         38       1    31      25      162     57    32      16      50      194       0       0\n",
      "39  1262      53         3.19        34         41       1    27      35      163     51    31      16      25      185       0       0\n",
      "40   516      47         2.66        33         35       1    20      35      170     57    23      12      50      186       1       0\n",
      "41  1272      53         2.75        32         40       1    37      50      168     61    31      16       0      173       0       1\n"
     ]
    }
   ],
   "source": [
    "# data cleaning (removing any rows with NULL values)\n",
    "import pandas as pd\n",
    "\n",
    "df = pd.read_csv('birthweight_csv.csv')\n",
    "\n",
    "df.dropna(inplace = True)\n",
    "\n",
    "print(df.to_string())"
   ]
  },
  {
   "cell_type": "code",
   "execution_count": 7,
   "metadata": {},
   "outputs": [
    {
     "name": "stdout",
     "output_type": "stream",
     "text": [
      "0     False\n",
      "1     False\n",
      "2     False\n",
      "3     False\n",
      "4     False\n",
      "5     False\n",
      "6     False\n",
      "7     False\n",
      "8     False\n",
      "9     False\n",
      "10    False\n",
      "11    False\n",
      "12    False\n",
      "13    False\n",
      "14    False\n",
      "15    False\n",
      "16    False\n",
      "17    False\n",
      "18    False\n",
      "19    False\n",
      "20    False\n",
      "21    False\n",
      "22    False\n",
      "23    False\n",
      "24    False\n",
      "25    False\n",
      "26    False\n",
      "27    False\n",
      "28    False\n",
      "29    False\n",
      "30    False\n",
      "31    False\n",
      "32    False\n",
      "33    False\n",
      "34    False\n",
      "35    False\n",
      "36    False\n",
      "37    False\n",
      "38    False\n",
      "39    False\n",
      "40    False\n",
      "41    False\n",
      "dtype: bool\n"
     ]
    }
   ],
   "source": [
    "# checks if any data is dublicated\n",
    "\n",
    "print(df.duplicated())\n"
   ]
  },
  {
   "cell_type": "code",
   "execution_count": 7,
   "metadata": {},
   "outputs": [
    {
     "data": {
      "image/png": "[encoded data removed]",
      "text/plain": [
       "<Figure size 432x288 with 1 Axes>"
      ]
     },
     "metadata": {
      "needs_background": "light"
     },
     "output_type": "display_data"
    }
   ],
   "source": [
    "import pandas as pd\n",
    "import matplotlib.pyplot as plt\n",
    "\n",
    "df = pd.read_csv('birthweight_csv.csv')\n",
    "\n",
    "df.plot()\n",
    "\n",
    "plt.show()"
   ]
  },
  {
   "cell_type": "code",
   "execution_count": 9,
   "metadata": {},
   "outputs": [
    {
     "data": {
      "text/html": [
       "<div>\n",
       "<style scoped>\n",
       "    .dataframe tbody tr th:only-of-type {\n",
       "        vertical-align: middle;\n",
       "    }\n",
       "\n",
       "    .dataframe tbody tr th {\n",
       "        vertical-align: top;\n",
       "    }\n",
       "\n",
       "    .dataframe thead th {\n",
       "        text-align: right;\n",
       "    }\n",
       "</style>\n",
       "<table border=\"1\" class=\"dataframe\">\n",
       "  <thead>\n",
       "    <tr style=\"text-align: right;\">\n",
       "      <th></th>\n",
       "      <th>ID</th>\n",
       "      <th>Length</th>\n",
       "      <th>Birthweight</th>\n",
       "      <th>Headcirc</th>\n",
       "      <th>Gestation</th>\n",
       "      <th>smoker</th>\n",
       "      <th>mage</th>\n",
       "      <th>mnocig</th>\n",
       "      <th>mheight</th>\n",
       "      <th>mppwt</th>\n",
       "      <th>fage</th>\n",
       "      <th>fedyrs</th>\n",
       "      <th>fnocig</th>\n",
       "      <th>fheight</th>\n",
       "      <th>lowbwt</th>\n",
       "      <th>mage35</th>\n",
       "    </tr>\n",
       "  </thead>\n",
       "  <tbody>\n",
       "    <tr>\n",
       "      <th>count</th>\n",
       "      <td>42.000000</td>\n",
       "      <td>42.000000</td>\n",
       "      <td>42.000000</td>\n",
       "      <td>42.000000</td>\n",
       "      <td>42.000000</td>\n",
       "      <td>42.000000</td>\n",
       "      <td>42.000000</td>\n",
       "      <td>42.000000</td>\n",
       "      <td>42.000000</td>\n",
       "      <td>42.000000</td>\n",
       "      <td>42.000000</td>\n",
       "      <td>42.000000</td>\n",
       "      <td>42.000000</td>\n",
       "      <td>42.000000</td>\n",
       "      <td>42.000000</td>\n",
       "      <td>42.000000</td>\n",
       "    </tr>\n",
       "    <tr>\n",
       "      <th>mean</th>\n",
       "      <td>894.071429</td>\n",
       "      <td>51.333333</td>\n",
       "      <td>3.312857</td>\n",
       "      <td>34.595238</td>\n",
       "      <td>39.190476</td>\n",
       "      <td>0.523810</td>\n",
       "      <td>25.547619</td>\n",
       "      <td>9.428571</td>\n",
       "      <td>164.452381</td>\n",
       "      <td>57.500000</td>\n",
       "      <td>28.904762</td>\n",
       "      <td>13.666667</td>\n",
       "      <td>17.190476</td>\n",
       "      <td>180.500000</td>\n",
       "      <td>0.142857</td>\n",
       "      <td>0.095238</td>\n",
       "    </tr>\n",
       "    <tr>\n",
       "      <th>std</th>\n",
       "      <td>467.616186</td>\n",
       "      <td>2.935624</td>\n",
       "      <td>0.603895</td>\n",
       "      <td>2.399792</td>\n",
       "      <td>2.643336</td>\n",
       "      <td>0.505487</td>\n",
       "      <td>5.666342</td>\n",
       "      <td>12.511737</td>\n",
       "      <td>6.504041</td>\n",
       "      <td>7.198408</td>\n",
       "      <td>6.863866</td>\n",
       "      <td>2.160247</td>\n",
       "      <td>17.308165</td>\n",
       "      <td>6.978189</td>\n",
       "      <td>0.354169</td>\n",
       "      <td>0.297102</td>\n",
       "    </tr>\n",
       "    <tr>\n",
       "      <th>min</th>\n",
       "      <td>27.000000</td>\n",
       "      <td>43.000000</td>\n",
       "      <td>1.920000</td>\n",
       "      <td>30.000000</td>\n",
       "      <td>33.000000</td>\n",
       "      <td>0.000000</td>\n",
       "      <td>18.000000</td>\n",
       "      <td>0.000000</td>\n",
       "      <td>149.000000</td>\n",
       "      <td>45.000000</td>\n",
       "      <td>19.000000</td>\n",
       "      <td>10.000000</td>\n",
       "      <td>0.000000</td>\n",
       "      <td>169.000000</td>\n",
       "      <td>0.000000</td>\n",
       "      <td>0.000000</td>\n",
       "    </tr>\n",
       "    <tr>\n",
       "      <th>25%</th>\n",
       "      <td>537.250000</td>\n",
       "      <td>50.000000</td>\n",
       "      <td>2.940000</td>\n",
       "      <td>33.000000</td>\n",
       "      <td>38.000000</td>\n",
       "      <td>0.000000</td>\n",
       "      <td>20.250000</td>\n",
       "      <td>0.000000</td>\n",
       "      <td>161.000000</td>\n",
       "      <td>52.250000</td>\n",
       "      <td>23.000000</td>\n",
       "      <td>12.000000</td>\n",
       "      <td>0.000000</td>\n",
       "      <td>175.250000</td>\n",
       "      <td>0.000000</td>\n",
       "      <td>0.000000</td>\n",
       "    </tr>\n",
       "    <tr>\n",
       "      <th>50%</th>\n",
       "      <td>821.000000</td>\n",
       "      <td>52.000000</td>\n",
       "      <td>3.295000</td>\n",
       "      <td>34.000000</td>\n",
       "      <td>39.500000</td>\n",
       "      <td>1.000000</td>\n",
       "      <td>24.000000</td>\n",
       "      <td>4.500000</td>\n",
       "      <td>164.500000</td>\n",
       "      <td>57.000000</td>\n",
       "      <td>29.500000</td>\n",
       "      <td>14.000000</td>\n",
       "      <td>18.500000</td>\n",
       "      <td>180.500000</td>\n",
       "      <td>0.000000</td>\n",
       "      <td>0.000000</td>\n",
       "    </tr>\n",
       "    <tr>\n",
       "      <th>75%</th>\n",
       "      <td>1269.500000</td>\n",
       "      <td>53.000000</td>\n",
       "      <td>3.647500</td>\n",
       "      <td>36.000000</td>\n",
       "      <td>41.000000</td>\n",
       "      <td>1.000000</td>\n",
       "      <td>29.000000</td>\n",
       "      <td>15.750000</td>\n",
       "      <td>169.500000</td>\n",
       "      <td>62.000000</td>\n",
       "      <td>32.000000</td>\n",
       "      <td>16.000000</td>\n",
       "      <td>25.000000</td>\n",
       "      <td>184.750000</td>\n",
       "      <td>0.000000</td>\n",
       "      <td>0.000000</td>\n",
       "    </tr>\n",
       "    <tr>\n",
       "      <th>max</th>\n",
       "      <td>1764.000000</td>\n",
       "      <td>58.000000</td>\n",
       "      <td>4.570000</td>\n",
       "      <td>39.000000</td>\n",
       "      <td>45.000000</td>\n",
       "      <td>1.000000</td>\n",
       "      <td>41.000000</td>\n",
       "      <td>50.000000</td>\n",
       "      <td>181.000000</td>\n",
       "      <td>78.000000</td>\n",
       "      <td>46.000000</td>\n",
       "      <td>16.000000</td>\n",
       "      <td>50.000000</td>\n",
       "      <td>200.000000</td>\n",
       "      <td>1.000000</td>\n",
       "      <td>1.000000</td>\n",
       "    </tr>\n",
       "  </tbody>\n",
       "</table>\n",
       "</div>"
      ],
      "text/plain": [
       "                ID     Length  Birthweight   Headcirc  Gestation     smoker  \\\n",
       "count    42.000000  42.000000    42.000000  42.000000  42.000000  42.000000   \n",
       "mean    894.071429  51.333333     3.312857  34.595238  39.190476   0.523810   \n",
       "std     467.616186   2.935624     0.603895   2.399792   2.643336   0.505487   \n",
       "min      27.000000  43.000000     1.920000  30.000000  33.000000   0.000000   \n",
       "25%     537.250000  50.000000     2.940000  33.000000  38.000000   0.000000   \n",
       "50%     821.000000  52.000000     3.295000  34.000000  39.500000   1.000000   \n",
       "75%    1269.500000  53.000000     3.647500  36.000000  41.000000   1.000000   \n",
       "max    1764.000000  58.000000     4.570000  39.000000  45.000000   1.000000   \n",
       "\n",
       "            mage     mnocig     mheight      mppwt       fage     fedyrs  \\\n",
       "count  42.000000  42.000000   42.000000  42.000000  42.000000  42.000000   \n",
       "mean   25.547619   9.428571  164.452381  57.500000  28.904762  13.666667   \n",
       "std     5.666342  12.511737    6.504041   7.198408   6.863866   2.160247   \n",
       "min    18.000000   0.000000  149.000000  45.000000  19.000000  10.000000   \n",
       "25%    20.250000   0.000000  161.000000  52.250000  23.000000  12.000000   \n",
       "50%    24.000000   4.500000  164.500000  57.000000  29.500000  14.000000   \n",
       "75%    29.000000  15.750000  169.500000  62.000000  32.000000  16.000000   \n",
       "max    41.000000  50.000000  181.000000  78.000000  46.000000  16.000000   \n",
       "\n",
       "          fnocig     fheight     lowbwt     mage35  \n",
       "count  42.000000   42.000000  42.000000  42.000000  \n",
       "mean   17.190476  180.500000   0.142857   0.095238  \n",
       "std    17.308165    6.978189   0.354169   0.297102  \n",
       "min     0.000000  169.000000   0.000000   0.000000  \n",
       "25%     0.000000  175.250000   0.000000   0.000000  \n",
       "50%    18.500000  180.500000   0.000000   0.000000  \n",
       "75%    25.000000  184.750000   0.000000   0.000000  \n",
       "max    50.000000  200.000000   1.000000   1.000000  "
      ]
     },
     "execution_count": 9,
     "metadata": {},
     "output_type": "execute_result"
    }
   ],
   "source": [
    "# exploratory data analysis, refers to performing initial investigations on data to discover patterns \\\n",
    "# test hypothesis, and to check assumptions with the help of statistics and graphs\n",
    "\n",
    "# gives various summary statistics to give a better understanding of dataset\n",
    "df.describe()"
   ]
  },
  {
   "cell_type": "code",
   "execution_count": 10,
   "metadata": {},
   "outputs": [
    {
     "data": {
      "image/png": "[encoded data removed]",
      "text/plain": [
       "<Figure size 576x396 with 1 Axes>"
      ]
     },
     "metadata": {},
     "output_type": "display_data"
    }
   ],
   "source": [
    "# scatterplot showing the relationship between two scale variables; Geastation and Birthweight\n",
    "# we believe as gestational age grows, birthweight should grow as well\n",
    "\n",
    "plt.style.use('seaborn')\n",
    "\n",
    "gestation = df['Gestation']\n",
    "birth_weight = df['Birthweight']\n",
    "\n",
    "plt.scatter(gestation, birth_weight, s = 100, alpha = 0.6, edgecolors= 'black', linewidth = 1)\n",
    "plt.title('Scatterplot of Gestation Age and Birthweight')\n",
    "plt.xlabel('Gestation (weeks)')\n",
    "plt.ylabel('Birthweight (lbs)')\n",
    "plt.tight_layout\n",
    "plt.show()"
   ]
  },
  {
   "cell_type": "code",
   "execution_count": 11,
   "metadata": {},
   "outputs": [
    {
     "data": {
      "text/plain": [
       "Text(0.5, 0, 'Age (years)')"
      ]
     },
     "execution_count": 11,
     "metadata": {},
     "output_type": "execute_result"
    },
    {
     "data": {
      "image/png": "[encoded data removed]",
      "text/plain": [
       "<Figure size 576x396 with 1 Axes>"
      ]
     },
     "metadata": {},
     "output_type": "display_data"
    }
   ],
   "source": [
    "# univariate analysis (analyzing only one variable in data)\n",
    "\n",
    "df.hist(column='mage', color = 'red', edgecolor ='black')\n",
    "plt.title('Mother\\'s Age')\n",
    "plt.xlabel('Age (years)')\n"
   ]
  },
  {
   "cell_type": "code",
   "execution_count": 12,
   "metadata": {},
   "outputs": [
    {
     "data": {
      "text/plain": [
       "Text(0.5, 0, 'Age (years)')"
      ]
     },
     "execution_count": 12,
     "metadata": {},
     "output_type": "execute_result"
    },
    {
     "data": {
      "image/png": "[encoded data removed]",
      "text/plain": [
       "<Figure size 576x396 with 1 Axes>"
      ]
     },
     "metadata": {},
     "output_type": "display_data"
    }
   ],
   "source": [
    "# univariate analysis (analyzing only one variable in data)\n",
    "\n",
    "df.hist(column='fage', color = 'blue', edgecolor ='black')\n",
    "plt.title('Father\\'s Age')\n",
    "plt.xlabel('Age (years)')"
   ]
  },
  {
   "cell_type": "code",
   "execution_count": 5,
   "metadata": {},
   "outputs": [
    {
     "data": {
      "text/plain": [
       "array([[<AxesSubplot:title={'center':'smoker'}>]], dtype=object)"
      ]
     },
     "execution_count": 5,
     "metadata": {},
     "output_type": "execute_result"
    },
    {
     "data": {
      "image/png": "[encoded data removed]",
      "text/plain": [
       "<Figure size 432x288 with 1 Axes>"
      ]
     },
     "metadata": {
      "needs_background": "light"
     },
     "output_type": "display_data"
    }
   ],
   "source": [
    "# univariate analysis (analyzing only one variable in data)\n",
    "\n",
    "df.hist(column='smoker', edgecolor ='black')"
   ]
  },
  {
   "cell_type": "code",
   "execution_count": 2,
   "metadata": {},
   "outputs": [
    {
     "name": "stdout",
     "output_type": "stream",
     "text": [
      "-2.1694463393559116\n",
      "[-0.45127585 -0.00103447  0.00889428  0.13942198]\n",
      "test_data:\n",
      "   smoker  mnocig  mage  Gestation\n",
      "0       1       0    20         44\n",
      "test_prediction:\n",
      "[3.69173057]\n"
     ]
    }
   ],
   "source": [
    "# Import pandas \n",
    "import pandas as pd\n",
    " \n",
    "# Read the dataset using read_csv method\n",
    "df = pd.read_csv(\"birthweight_csv.csv\")\n",
    " \n",
    "# See the top-5 records in the data\n",
    "df.head()\n",
    "\n",
    "# Independent variables or Features\n",
    "X = df[['smoker', 'mnocig', 'mage', 'Gestation']]#, 'fage', 'fnocig']] \n",
    " \n",
    "# Dependent or Target variable\n",
    "y = df.Birthweight\n",
    "\n",
    "# Import train_test_split function from \n",
    "from sklearn.model_selection import train_test_split\n",
    " \n",
    "# Split X and y into training and testing sets\n",
    "X_train, X_test, y_train, y_test = train_test_split(X,y,test_size=0.25,random_state=0)\n",
    "\n",
    "# Import linear regression model\n",
    "from sklearn.linear_model import LinearRegression\n",
    " \n",
    "# Create linear regression model\n",
    "lin_reg = LinearRegression()\n",
    " \n",
    "# Fit the linear regression model\n",
    "lin_reg.fit(X_train, y_train)\n",
    " \n",
    "# Predict the values given test set\n",
    "predictions = lin_reg.predict(X_test)\n",
    "\n",
    "# Print the intercept and coefficients\n",
    "print(lin_reg.intercept_)\n",
    "print(lin_reg.coef_)\n",
    "\n",
    "test_data = {'smoker': [1], 'mnocig': [0], 'mage': [20], 'Gestation': [44]}#, 'fage': [23], 'fnocig': [35]}\n",
    "test_frame = pd.DataFrame(data=test_data)\n",
    "print(f'test_data:')\n",
    "print(test_frame)\n",
    "predict_test = lin_reg.predict(test_frame)\n",
    "print(f'test_prediction:')\n",
    "print(predict_test)"
   ]
  }
 ],
 "metadata": {
  "interpreter": {
   "hash": "816c4ca1a442304386b640facc7eeaee53f275019272c999ca11fec791461f00"
  },
  "kernelspec": {
   "display_name": "Python 3.10.2 64-bit",
   "language": "python",
   "name": "python3"
  },
  "language_info": {
   "codemirror_mode": {
    "name": "ipython",
    "version": 3
   },
   "file_extension": ".py",
   "mimetype": "text/x-python",
   "name": "python",
   "nbconvert_exporter": "python",
   "pygments_lexer": "ipython3",
   "version": "3.10.2"
  },
  "orig_nbformat": 4
 },
 "nbformat": 4,
 "nbformat_minor": 2
}
